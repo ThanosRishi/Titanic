{
 "cells": [
  {
   "cell_type": "code",
   "execution_count": 1,
   "id": "cd2c6400",
   "metadata": {},
   "outputs": [],
   "source": [
    "import numpy as np\n",
    "import pandas as pd\n",
    "import matplotlib.pyplot as plt"
   ]
  },
  {
   "cell_type": "code",
   "execution_count": 2,
   "id": "64743b55",
   "metadata": {},
   "outputs": [],
   "source": [
    "# Load the Titanic dataset\n",
    "df1 = pd.read_csv('train.csv')\n",
    "df2 = pd.read_csv('test.csv')\n",
    "frames = [df1, df2]\n",
    "titanic_data = pd.concat(frames)"
   ]
  },
  {
   "cell_type": "code",
   "execution_count": 3,
   "id": "46389499",
   "metadata": {},
   "outputs": [],
   "source": [
    "# Preprocess the data\n",
    "titanic_data = titanic_data[['Pclass', 'Sex', 'Age', 'Survived']]\n",
    "titanic_data.dropna(inplace=True)\n",
    "titanic_data['Sex'] = titanic_data['Sex'].map({'male': 0, 'female': 1})"
   ]
  },
  {
   "cell_type": "code",
   "execution_count": 4,
   "id": "0f8dc30c",
   "metadata": {},
   "outputs": [],
   "source": [
    "# Split the data into features and labels\n",
    "X = titanic_data[['Pclass', 'Sex', 'Age']].values\n",
    "y = titanic_data['Survived'].values"
   ]
  },
  {
   "cell_type": "code",
   "execution_count": 5,
   "id": "da18eb78",
   "metadata": {},
   "outputs": [],
   "source": [
    "# Separate the data by class\n",
    "X_survived = X[y == 1]\n",
    "X_not_survived = X[y == 0]"
   ]
  },
  {
   "cell_type": "code",
   "execution_count": 6,
   "id": "16679bbf",
   "metadata": {},
   "outputs": [],
   "source": [
    "# Calculate the mean and standard deviation for each feature by class\n",
    "means_survived = np.mean(X_survived, axis=0)\n",
    "stds_survived = np.std(X_survived, axis=0)\n",
    "means_not_survived = np.mean(X_not_survived, axis=0)\n",
    "stds_not_survived = np.std(X_not_survived, axis=0)"
   ]
  },
  {
   "cell_type": "code",
   "execution_count": 7,
   "id": "61568dc1",
   "metadata": {},
   "outputs": [],
   "source": [
    "# Define the Gaussian probability density function\n",
    "def gaussian_pdf(x, mean, std):\n",
    "    exponent = np.exp(-((x - mean) ** 2) / (2 * (std ** 2)))\n",
    "    return (1 / (np.sqrt(2 * np.pi) * std)) * exponent"
   ]
  },
  {
   "cell_type": "code",
   "execution_count": 8,
   "id": "dd699dd3",
   "metadata": {},
   "outputs": [],
   "source": [
    "# Predict the labels using Naive Bayes\n",
    "predictions = []\n",
    "\n",
    "for sample in X:\n",
    "    p_survived = len(X_survived) / len(X)\n",
    "    p_not_survived = len(X_not_survived) / len(X)\n",
    "    \n",
    "    p_features_survived = np.prod(gaussian_pdf(sample, means_survived, stds_survived))\n",
    "    p_features_not_survived = np.prod(gaussian_pdf(sample, means_not_survived, stds_not_survived))\n",
    "    \n",
    "    p_survived_given_features = p_survived * p_features_survived\n",
    "    p_not_survived_given_features = p_not_survived * p_features_not_survived\n",
    "    \n",
    "    predicted_label = 1 if p_survived_given_features > p_not_survived_given_features else 0\n",
    "    predictions.append(predicted_label)"
   ]
  },
  {
   "cell_type": "code",
   "execution_count": 9,
   "id": "7e134915",
   "metadata": {},
   "outputs": [
    {
     "name": "stdout",
     "output_type": "stream",
     "text": [
      "Accuracy: 0.7829131652661064\n"
     ]
    }
   ],
   "source": [
    "# Calculate the accuracy of the predictions\n",
    "accuracy = np.mean(predictions == y)\n",
    "print(\"Accuracy:\", accuracy)"
   ]
  },
  {
   "cell_type": "code",
   "execution_count": 10,
   "id": "c1316fba",
   "metadata": {},
   "outputs": [
    {
     "data": {
      "image/png": "[encoded data removed]",
      "text/plain": [
       "<Figure size 432x288 with 1 Axes>"
      ]
     },
     "metadata": {
      "needs_background": "light"
     },
     "output_type": "display_data"
    }
   ],
   "source": [
    "# Visualize the results\n",
    "survived_indices = np.where(y == 1)[0]\n",
    "not_survived_indices = np.where(y == 0)[0]\n",
    "\n",
    "plt.scatter(X[survived_indices, 0], X[survived_indices, 1], c='g', label='Survived')\n",
    "plt.scatter(X[not_survived_indices, 0], X[not_survived_indices, 1], c='r', label='Not Survived')\n",
    "plt.xlabel('Pclass')\n",
    "plt.ylabel('Sex')\n",
    "plt.title('Naive Bayes on Titanic Dataset')\n",
    "plt.legend()\n",
    "plt.show()"
   ]
  },
  {
   "cell_type": "code",
   "execution_count": null,
   "id": "ae4fa808",
   "metadata": {},
   "outputs": [],
   "source": []
  }
 ],
 "metadata": {
  "kernelspec": {
   "display_name": "Python 3 (ipykernel)",
   "language": "python",
   "name": "python3"
  },
  "language_info": {
   "codemirror_mode": {
    "name": "ipython",
    "version": 3
   },
   "file_extension": ".py",
   "mimetype": "text/x-python",
   "name": "python",
   "nbconvert_exporter": "python",
   "pygments_lexer": "ipython3",
   "version": "3.9.7"
  }
 },
 "nbformat": 4,
 "nbformat_minor": 5
}
